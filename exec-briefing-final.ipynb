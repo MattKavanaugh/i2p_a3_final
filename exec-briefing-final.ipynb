{
 "cells": [
  {
   "cell_type": "markdown",
   "metadata": {},
   "source": [
    "<h1 style=\"width:750px\">Airbnb and the Prevalence of Ghost Hotels in London</h1>"
   ]
  },
  {
   "cell_type": "markdown",
   "metadata": {},
   "source": [
    "---"
   ]
  },
  {
   "cell_type": "markdown",
   "metadata": {},
   "source": [
    "| CASA0013 | Introduction to Programming for Spatial Analysts | \n",
    "|----|----|\n",
    "| Programme | MSc Smart Cities and Urban Analytics |\n",
    "| Bartlett | Centre for Advanced Spatial Analytics |\n",
    "| Word Count | 1,647 |\n",
    "| Student ID | 19140941 |\n",
    "| Date | 22-02-09 |"
   ]
  },
  {
   "cell_type": "markdown",
   "metadata": {},
   "source": [
    "---"
   ]
  },
  {
   "cell_type": "markdown",
   "metadata": {},
   "source": [
    "## Part 1 - Reproducible Analysis"
   ]
  },
  {
   "cell_type": "markdown",
   "metadata": {},
   "source": [
    "Data for this analysis was downloaded from the Inside Airbnb website at http://insideairbnb.com/get-the-data.html."
   ]
  },
  {
   "cell_type": "markdown",
   "metadata": {},
   "source": [
    "| Data Downloaded | |  | |\n",
    "|----|----|----|----|\n",
    "|  09 August, 2019  |  London  |  listings.csv.gz  |  Detailed Listings data for London  |\n",
    "|  N/A  |  London  |  neighbourhoods.csv  |  Neighbourhood list for geo filtering  |\n",
    "|  N/A  |  London  |  neighbourhoods.geojson  |  GeoJSON file of city neighbourhoods  |"
   ]
  },
  {
   "cell_type": "markdown",
   "metadata": {},
   "source": [
    "**Code:**"
   ]
  },
  {
   "cell_type": "markdown",
   "metadata": {},
   "source": [
    "The csv file used in the reproducible analysis below and associated outputs can be downloaded from [GitHub](https://github.com/MattKavanaugh/I2P-Exec-Briefing). "
   ]
  },
  {
   "cell_type": "markdown",
   "metadata": {},
   "source": [
    "### Load Data"
   ]
  },
  {
   "cell_type": "code",
   "execution_count": null,
   "metadata": {},
   "outputs": [],
   "source": [
    "# load libraries\n",
    "import csv\n",
    "import os\n",
    "from urllib.request import urlopen\n",
    "from IPython import display\n",
    "\n",
    "# Load numeric libraries\n",
    "import geopandas as gpd\n",
    "import math\n",
    "%matplotlib inline\n",
    "import matplotlib.cm as cm\n",
    "import matplotlib.pyplot as plt\n",
    "import numpy as np\n",
    "import pandas as pd\n",
    "import re\n",
    "import seaborn as sns\n",
    "import sklearn\n",
    "        \n",
    "# load spatial libraries\n",
    "import json\n",
    "import pysal as ps\n",
    "import mapclassify as mc\n",
    "import palettable.matplotlib as palmpl\n",
    "from legendgram import legendgram"
   ]
  },
  {
   "cell_type": "code",
   "execution_count": null,
   "metadata": {},
   "outputs": [],
   "source": [
    "# open data into a pandas dataframe\n",
    "url = 'https://github.com/MattKavanaugh/i2p_a3_final/blob/main/19-08_listings.csv.gz?raw=true'\n",
    "pdf = pd.read_csv(url, compression='gzip', low_memory=False)\n",
    "\n",
    "# for local use only\n",
    "# pdf = pd.read_csv('19-08_listings.csv.gz', compression='gzip', low_memory=False)\n",
    "\n",
    "# confirm load\n",
    "print(f\"Data frame is {pdf.shape[0]:,} columns x {pdf.shape[1]} rows\")"
   ]
  },
  {
   "cell_type": "markdown",
   "metadata": {},
   "source": [
    "### Review & Reduce Data"
   ]
  },
  {
   "cell_type": "code",
   "execution_count": null,
   "metadata": {},
   "outputs": [],
   "source": [
    "# check dataframe\n",
    "pdf.info()"
   ]
  },
  {
   "cell_type": "code",
   "execution_count": null,
   "metadata": {},
   "outputs": [],
   "source": [
    "# check column names\n",
    "print(list(pdf.columns.values))"
   ]
  },
  {
   "cell_type": "code",
   "execution_count": null,
   "metadata": {},
   "outputs": [],
   "source": [
    "# look at data\n",
    "pdf.head()"
   ]
  },
  {
   "cell_type": "code",
   "execution_count": null,
   "metadata": {},
   "outputs": [],
   "source": [
    "# drop columns we don't think we will need or that we think have any directly identifiable information\n",
    "cols2drop = ['listing_url', 'scrape_id', 'last_scraped', 'summary', 'space', 'experiences_offered', 'notes', \n",
    "             'transit', 'access', 'interaction', 'house_rules', 'thumbnail_url', 'medium_url', 'picture_url', \n",
    "             'xl_picture_url', 'host_url', 'host_name', 'host_since', 'host_about', 'host_response_time', 'host_response_rate', \n",
    "             'host_acceptance_rate', 'host_is_superhost', 'host_thumbnail_url', 'host_picture_url', \n",
    "             'host_listings_count', 'host_verifications', 'host_has_profile_pic', 'host_identity_verified', \n",
    "             'neighbourhood', 'neighbourhood_group_cleansed', 'city', 'state', 'zipcode', 'market', \n",
    "             'smart_location', 'country_code', 'country', 'is_location_exact', 'bathrooms', 'bedrooms', 'beds', 'bed_type', \n",
    "             'amenities', 'square_feet', 'security_deposit', 'cleaning_fee', 'guests_included', 'extra_people', \n",
    "             'maximum_nights', 'minimum_minimum_nights', 'maximum_minimum_nights', 'minimum_maximum_nights', \n",
    "             'maximum_maximum_nights', 'minimum_nights_avg_ntm', 'maximum_nights_avg_ntm', 'calendar_updated', \n",
    "             'has_availability', 'availability_30', 'availability_60', 'availability_90', 'availability_365', \n",
    "             'calendar_last_scraped', 'number_of_reviews', 'number_of_reviews_ltm', 'first_review', 'last_review', \n",
    "             'review_scores_rating', 'review_scores_accuracy', 'review_scores_cleanliness', 'review_scores_checkin', \n",
    "             'review_scores_communication', 'review_scores_location', 'review_scores_value', 'requires_license', \n",
    "             'license', 'jurisdiction_names', 'instant_bookable', 'is_business_travel_ready', 'cancellation_policy', \n",
    "             'require_guest_profile_picture', 'require_guest_phone_verification', 'calculated_host_listings_count_shared_rooms', \n",
    "             'reviews_per_month']\n",
    "for col in pdf.columns:\n",
    "    if col in cols2drop:\n",
    "        pdf.drop(col, inplace=True, axis=1)"
   ]
  },
  {
   "cell_type": "code",
   "execution_count": null,
   "metadata": {},
   "outputs": [],
   "source": [
    "# check reduced dataframe\n",
    "print(f\"Data frame is {pdf.shape[0]:,} columns x {pdf.shape[1]} rows\")\n",
    "\n",
    "# check reduced column names\n",
    "print(list(pdf.columns.values))"
   ]
  },
  {
   "cell_type": "code",
   "execution_count": null,
   "metadata": {},
   "outputs": [],
   "source": [
    "# look at a few columns in more detail to see if we can drop more\n",
    "pdf.head()[['name', 'description', 'neighborhood_overview', 'host_location', \n",
    "           'host_neighbourhood', 'host_total_listings_count', 'street', \n",
    "           'neighbourhood_cleansed', 'price', 'weekly_price', 'monthly_price', \n",
    "           'calculated_host_listings_count', 'calculated_host_listings_count_entire_homes', \n",
    "           'calculated_host_listings_count_private_rooms']]"
   ]
  },
  {
   "cell_type": "code",
   "execution_count": null,
   "metadata": {},
   "outputs": [],
   "source": [
    "# Data review\n",
    "# 1. Descriptions - 3 fields\n",
    "    # the name, description, and neighoburhood overview fields seem to come directly from the hosts\n",
    "    # these will be valuable for later analysis\n",
    "\n",
    "# 2. Locations - 4 fields\n",
    "    # the host_location, host_neighbourhood, street, and neighbourhood cleansed fields are all over the place\n",
    "    # likely partly to user error during entry (deliberate or otherwise), scraping methods, and/or Airbnb itself\n",
    "    # for ease of use, we will keep the neighbourhood_cleansed and drop the other 3\n",
    "\n",
    "# 3. Host Listing Counts - 4 fields\n",
    "    # the host__listings_count fields also seem to vary and can easily be calculated on our own\n",
    "    # we will drop all 4 of these\n",
    "    \n",
    "# 4. Prices - 3 fields\n",
    "    # we will need to convert these to remove the $ sign\n",
    "\n",
    "morecols2drop = ['host_location', 'host_neighbourhood', 'host_total_listings_count', 'street', \n",
    "                 'calculated_host_listings_count', 'calculated_host_listings_count_entire_homes', \n",
    "                 'calculated_host_listings_count_private_rooms']\n",
    "for col in pdf.columns:\n",
    "    if col in morecols2drop:\n",
    "        pdf.drop(col, inplace=True, axis=1)"
   ]
  },
  {
   "cell_type": "code",
   "execution_count": null,
   "metadata": {},
   "outputs": [],
   "source": [
    "# check final dataframe\n",
    "print(f\"Data frame is {pdf.shape[0]:,} columns x {pdf.shape[1]} rows\")\n",
    "\n",
    "# check final column names\n",
    "print(list(pdf.columns.values))"
   ]
  },
  {
   "cell_type": "code",
   "execution_count": null,
   "metadata": {},
   "outputs": [],
   "source": [
    "# save raw data\n",
    "# ADD THIS WHEN FROM GITHUB - fn   = url.split('/')[-1]\n",
    "path = os.path.join('data','raw')\n",
    "fn = '19-08_listings'\n",
    "print(f\"Writing to: {fn}\")\n",
    "\n",
    "if not os.path.exists(path):\n",
    "    print(f\"Creating {path} under {os.getcwd()}\")\n",
    "    os.makedirs(path)\n",
    "    \n",
    "pdf.to_csv(os.path.join(path,fn), index=False)\n",
    "print(\"Done.\")"
   ]
  },
  {
   "cell_type": "markdown",
   "metadata": {},
   "source": [
    "### Clean Data"
   ]
  },
  {
   "cell_type": "code",
   "execution_count": null,
   "metadata": {},
   "outputs": [],
   "source": [
    "# reload data\n",
    "del(pdf)\n",
    "pdf = pd.read_csv(os.path.join(path,fn), low_memory=False)\n",
    "print(f\"Data frame is {pdf.shape[0]:,} columns x {pdf.shape[1]} rows\")"
   ]
  },
  {
   "cell_type": "code",
   "execution_count": null,
   "metadata": {},
   "outputs": [],
   "source": [
    "# first we will count nulls by columns to identify if there are any problems\n",
    "pdf.isnull().sum(axis=0).sort_values(ascending=False)"
   ]
  },
  {
   "cell_type": "code",
   "execution_count": null,
   "metadata": {},
   "outputs": [],
   "source": [
    "# we will drop 'monthly_price','weekly_price', and 'neighborhood_overview'\n",
    "pdf.drop(columns=['neighborhood_overview', 'weekly_price', 'monthly_price'], inplace=True)"
   ]
  },
  {
   "cell_type": "code",
   "execution_count": null,
   "metadata": {},
   "outputs": [],
   "source": [
    "# we will now count nulls by rows\n",
    "pdf.isnull().sum(axis=1).sort_values(ascending=False)"
   ]
  },
  {
   "cell_type": "code",
   "execution_count": null,
   "metadata": {},
   "outputs": [],
   "source": [
    "# no need to drop any\n",
    "\n",
    "# now let's see how many rows have NaNs in key columns\n",
    "pdf[pdf.id.isna()][['id', 'name', 'host_id']]"
   ]
  },
  {
   "cell_type": "code",
   "execution_count": null,
   "metadata": {},
   "outputs": [],
   "source": [
    "# no issues\n",
    "\n",
    "# now let's check datatypes\n",
    "pdf.dtypes"
   ]
  },
  {
   "cell_type": "code",
   "execution_count": null,
   "metadata": {},
   "outputs": [],
   "source": [
    "# Data to clean\n",
    "\n",
    "# 1. The following fields will need to be converted to integer\n",
    "    # 'id', 'host_id', 'accommodates', 'minimum_nights'\n",
    "\n",
    "# 2. The following fields will need to be converted to float\n",
    "    # 'latitude', 'longitude', 'price'\n",
    "    \n",
    "# 3. The following fields will need to be converted to string\n",
    "    # 'name', 'description'\n",
    "\n",
    "# 4. A geometry column will need to be created from the 'latitude' and 'longitude' fields"
   ]
  },
  {
   "cell_type": "markdown",
   "metadata": {},
   "source": [
    "##### Convert selected columns to integer"
   ]
  },
  {
   "cell_type": "code",
   "execution_count": null,
   "metadata": {},
   "outputs": [],
   "source": [
    "# convert 'id', 'host_id', 'accommodates', 'minimum_nights'\n",
    "pdf['id'] = pdf['id'].astype(\"int\")\n",
    "pdf['host_id'] = pdf['host_id'].astype(\"int\")\n",
    "pdf['accommodates'] = pdf['accommodates'].astype(\"int\")\n",
    "pdf['minimum_nights'] = pdf['minimum_nights'].astype(\"int\")\n",
    "\n",
    "# confirm changes\n",
    "pdf.dtypes"
   ]
  },
  {
   "cell_type": "markdown",
   "metadata": {},
   "source": [
    "##### Convert selected columns to float"
   ]
  },
  {
   "cell_type": "code",
   "execution_count": null,
   "metadata": {},
   "outputs": [],
   "source": [
    "# convert price\n",
    "pdf['price'] = pdf['price'].str.replace(\"[$, ]\", \"\").astype(\"float\")\n",
    "\n",
    "# convert latitude and longitude\n",
    "pdf['latitude'] = pdf['latitude'].astype(\"float\")\n",
    "pdf['longitude'] = pdf['longitude'].astype(\"float\")\n",
    "\n",
    "# confirm changes\n",
    "pdf.dtypes"
   ]
  },
  {
   "cell_type": "markdown",
   "metadata": {},
   "source": [
    "##### Reduce to only 'short term rentals'"
   ]
  },
  {
   "cell_type": "code",
   "execution_count": null,
   "metadata": {},
   "outputs": [],
   "source": [
    "# monthly sublets are a legitimate practice that can be found throughout cities worldwide, especially those with student populations\n",
    "# to avoid including any of these we will classify a short term rental as any listing offering\n",
    "# a minimum night stay less than 28 days (to account for the month of February)\n",
    "# the rest we will drop\n",
    "\n",
    "# let's see how many listings we have now\n",
    "pdf['id'].count()"
   ]
  },
  {
   "cell_type": "code",
   "execution_count": null,
   "metadata": {},
   "outputs": [],
   "source": [
    "# we will create indexes of listings where minimum_nights is greater than 28\n",
    "indexNames = pdf[pdf['minimum_nights'] > 28].index\n",
    "\n",
    "# Drop these listings\n",
    "pdf.drop(indexNames , inplace=True)\n",
    "\n",
    "# let's see how many listings we have left\n",
    "pdf['id'].count()"
   ]
  },
  {
   "cell_type": "code",
   "execution_count": null,
   "metadata": {},
   "outputs": [],
   "source": [
    "tl = 85918\n",
    "stl = 84412\n",
    "\n",
    "print(f\"{round(((stl/tl)*100), 2)}% of all listings offer short term rentals\")"
   ]
  },
  {
   "cell_type": "code",
   "execution_count": null,
   "metadata": {},
   "outputs": [],
   "source": [
    "# we no longer need the minimum nights column so it can be dropped\n",
    "pdf.drop('minimum_nights', axis=1, inplace=True)\n",
    "\n",
    "# confirm changes\n",
    "pdf.info()"
   ]
  },
  {
   "cell_type": "markdown",
   "metadata": {},
   "source": [
    "##### Clean up categories"
   ]
  },
  {
   "cell_type": "code",
   "execution_count": null,
   "metadata": {},
   "outputs": [],
   "source": [
    "# check property type counts by percentage\n",
    "pdf.property_type.value_counts(normalize=True)"
   ]
  },
  {
   "cell_type": "code",
   "execution_count": null,
   "metadata": {},
   "outputs": [],
   "source": [
    "# The top five seem to represent the vast majority of all listings\n",
    "pdf.property_type.value_counts(normalize=True)[:5].sum().round(2)"
   ]
  },
  {
   "cell_type": "code",
   "execution_count": null,
   "metadata": {},
   "outputs": [],
   "source": [
    "# we will keep the top 5 and merge all else into an \"Other\" label\n",
    "\n",
    "top5 = list(pdf.property_type.value_counts(normalize=True)[:5].index)\n",
    "\n",
    "pdf.property_type = [x if x in top5 else 'Other' for x in pdf.property_type]\n",
    "\n",
    "pdf.property_type.value_counts(normalize=True)"
   ]
  },
  {
   "cell_type": "markdown",
   "metadata": {},
   "source": [
    "##### Identify and remove outliers"
   ]
  },
  {
   "cell_type": "code",
   "execution_count": null,
   "metadata": {},
   "outputs": [],
   "source": [
    "# use the Interquartile Rule (IQR Score)\n",
    "    # Calculate the IQR\n",
    "    # Multiply the IQR by 1.5 (a constant used to discern outliers)\n",
    "    # Add 1.5 x (IQR) to the third quartile (75%). Any number greater than this is a suspected outlier.\n",
    "    # Subtract 1.5 x (IQR) from the first quartile (25%). Any number less than this is a suspected outlier.\n",
    "# credit to: https://github.com/brunacmendes/Airbnb_Data_Analysis_Toronto/blob/main/Airbnb_Listings_Data_Analysis_Toronto.ipynb\n",
    "    \n",
    "# first select relevant data\n",
    "pdf[['accommodates', 'price']].describe().round(1)"
   ]
  },
  {
   "cell_type": "code",
   "execution_count": null,
   "metadata": {},
   "outputs": [],
   "source": [
    "# Displaying the box plot for accommodates\n",
    "fig, ax = plt.subplots(figsize=(15,3))\n",
    "pdf['accommodates'].plot(kind='box', vert=False)\n",
    "ax.set_title('Original dataset - accommodates')\n",
    "plt.show()\n",
    "\n",
    "# IQR rule for variable accommodates\n",
    "q1_mn = pdf.accommodates.quantile(q=0.25)\n",
    "q3_mn = pdf.accommodates.quantile(q=0.75)\n",
    "IQR_mn = q3_mn - q1_mn\n",
    "\n",
    "print('IQR accommodates: ', IQR_mn)\n",
    "\n",
    "sup_mn = q3_mn + 1.5 * IQR_mn\n",
    "inf_mn = q1_mn - 1.5 * IQR_mn\n",
    "\n",
    "print('Upper limit: ', sup_mn)\n",
    "print('Lower limit: ', inf_mn)\n",
    "\n",
    "print(\"{} Entries above upper limit\".format(len(pdf[pdf.accommodates > sup_mn])))\n",
    "print(\"{:.2f}% of dataset\".format((len(pdf[pdf.accommodates > sup_mn]) / pdf.shape[0])*100))"
   ]
  },
  {
   "cell_type": "code",
   "execution_count": null,
   "metadata": {},
   "outputs": [],
   "source": [
    "# Display the box plot for price\n",
    "fig, ax = plt.subplots(figsize=(15,3))\n",
    "pdf['price'].plot(kind='box', vert=False)\n",
    "ax.set_title('Original dataset - price')\n",
    "plt.show()\n",
    "\n",
    "# IQR rule for variable price\n",
    "q1_price = pdf.price.quantile(q=0.25)\n",
    "q3_price = pdf.price.quantile(q=0.75)\n",
    "IQR_price = q3_price - q1_price\n",
    "\n",
    "print('IQR price: ', IQR_price)\n",
    "\n",
    "sup_price = q3_price + 1.5 * IQR_price\n",
    "inf_price = q1_price - 1.5 * IQR_price\n",
    "\n",
    "print('Upper limit: ', sup_price)\n",
    "print('Lower limit: ', inf_price)\n",
    "\n",
    "print(\"{} Entries above upper limit\".format(len(pdf[pdf.price > sup_price])))\n",
    "print(\"{:.2f}% of dataset\".format((len(pdf[pdf.price > sup_price]) / pdf.shape[0])*100))"
   ]
  },
  {
   "cell_type": "code",
   "execution_count": null,
   "metadata": {},
   "outputs": [],
   "source": [
    "# Select the rows that fulfil the established requirements\n",
    "pdf = pdf[(pdf['price'] <= 282.5) & (pdf['price'] > 0) & (pdf['accommodates'] <= 7.0)].copy()\n",
    "\n",
    "#plotting the boxplots again\n",
    "fig, ax = plt.subplots(figsize=(15,3))\n",
    "pdf['price'].plot(kind='box', vert=False)\n",
    "ax.set_title('Clean dataset - price')\n",
    "plt.show()\n",
    "\n",
    "fig, ax = plt.subplots(figsize=(15,3))\n",
    "pdf['accommodates'].plot(kind='box', vert=False)\n",
    "ax.set_title('Clean dataset - accommodates')\n",
    "plt.show()"
   ]
  },
  {
   "cell_type": "code",
   "execution_count": null,
   "metadata": {},
   "outputs": [],
   "source": [
    "# confirm changes \n",
    "pdf[['accommodates', 'price']].describe().round(1)"
   ]
  },
  {
   "cell_type": "markdown",
   "metadata": {},
   "source": [
    "##### Add geometry"
   ]
  },
  {
   "cell_type": "code",
   "execution_count": null,
   "metadata": {},
   "outputs": [],
   "source": [
    "# create a geometry column and geodataframe from the 'latitude' and 'longitude'\n",
    "gdf = gpd.GeoDataFrame(pdf, \n",
    "      geometry=gpd.points_from_xy(pdf['longitude'], pdf['latitude'], crs='epsg:4326'))"
   ]
  },
  {
   "cell_type": "code",
   "execution_count": null,
   "metadata": {},
   "outputs": [],
   "source": [
    "# confirm created\n",
    "print(gdf.geometry.crs)\n",
    "print(gdf.total_bounds)\n",
    "gdf.plot(figsize=(12,8), marker='*', color='green', markersize=0.25)"
   ]
  },
  {
   "cell_type": "code",
   "execution_count": null,
   "metadata": {},
   "outputs": [],
   "source": [
    "# change projection to BNG\n",
    "gdf = gdf.to_crs(\"epsg:27700\")\n",
    "print(gdf.geometry.crs)\n",
    "print(gdf.total_bounds)\n",
    "gdf.plot(figsize=(12,8), marker='*', color='green', markersize=0.5)"
   ]
  },
  {
   "cell_type": "code",
   "execution_count": null,
   "metadata": {},
   "outputs": [],
   "source": [
    "# read in json file\n",
    "lon_nbs = gpd.read_file('http://data.insideairbnb.com/united-kingdom/england/london/2021-12-07/visualisations/neighbourhoods.geojson')\n",
    "lon_nbs.head()"
   ]
  },
  {
   "cell_type": "code",
   "execution_count": null,
   "metadata": {},
   "outputs": [],
   "source": [
    "# we will need to merge neighbourhood with neighbourhood_cleansed from our dataframe\n",
    "# we will rename neighbourhood and drop neighbourhood group to avoid confusion\n",
    "lon_nbs.rename(columns={'neighbourhood': 'neighbourhood_cleansed'}, inplace=True)\n",
    "lon_nbs.drop('neighbourhood_group', axis=1, inplace=True)\n",
    "\n",
    "# check to confirm\n",
    "lon_nbs.head()"
   ]
  },
  {
   "cell_type": "code",
   "execution_count": null,
   "metadata": {},
   "outputs": [],
   "source": [
    "# plot \n",
    "print(lon_nbs.geometry.crs)\n",
    "print(lon_nbs.total_bounds)\n",
    "ax = lon_nbs.plot(figsize=(10,7), edgecolor='red', facecolor='none', linewidth=1, alpha=0.75)"
   ]
  },
  {
   "cell_type": "code",
   "execution_count": null,
   "metadata": {},
   "outputs": [],
   "source": [
    "# change projection to BNG\n",
    "lon_nbs = lon_nbs.to_crs(\"epsg:27700\")\n",
    "print(gdf.geometry.crs)\n",
    "print(gdf.total_bounds)\n",
    "ax = lon_nbs.plot(figsize=(10,7), edgecolor='red', facecolor='none', linewidth=1, alpha=0.75)"
   ]
  },
  {
   "cell_type": "markdown",
   "metadata": {},
   "source": [
    "### Save Data"
   ]
  },
  {
   "cell_type": "code",
   "execution_count": null,
   "metadata": {},
   "outputs": [],
   "source": [
    "# final check of dataframe\n",
    "pdf.head()"
   ]
  },
  {
   "cell_type": "code",
   "execution_count": null,
   "metadata": {},
   "outputs": [],
   "source": [
    "# save dataframe\n",
    "\n",
    "path = os.path.join('data','clean')\n",
    "fn = '19-08_listings'\n",
    "\n",
    "if not os.path.exists(path):\n",
    "    print(f\"Creating {path} under {os.getcwd()}\")\n",
    "    os.makedirs(path)\n",
    "    \n",
    "pdf.to_csv(os.path.join(path,fn), index=False)\n",
    "print(\"Done.\")"
   ]
  },
  {
   "cell_type": "markdown",
   "metadata": {},
   "source": [
    "### Save Geodata"
   ]
  },
  {
   "cell_type": "code",
   "execution_count": null,
   "metadata": {},
   "outputs": [],
   "source": [
    "# check geodataframe\n",
    "gdf.head()"
   ]
  },
  {
   "cell_type": "code",
   "execution_count": null,
   "metadata": {},
   "outputs": [],
   "source": [
    "# save geodataframe\n",
    "gdf.to_file('19-08-listings.gpkg', driver='GPKG')\n",
    "\n",
    "# Set save location\n",
    "path = os.path.join('data','geo')\n",
    "fn = '19-08-listings.gpkg'\n",
    "\n",
    "if not os.path.exists(path):\n",
    "    print(f\"Creating {path} under {os.getcwd()}\")\n",
    "    os.makedirs(path)\n",
    "    \n",
    "print(f\"Using '{fn}' as basis for saving data...\")\n",
    "\n",
    "gdf.to_file(os.path.join('data','geo',fn.replace('.csv.gz','.gpkg')), driver='GPKG')\n",
    "print(\"Done.\")"
   ]
  },
  {
   "cell_type": "markdown",
   "metadata": {},
   "source": [
    "#### Analysis"
   ]
  },
  {
   "cell_type": "code",
   "execution_count": null,
   "metadata": {},
   "outputs": [],
   "source": [
    "# let's see the statistics for all short term rentals\n",
    "\n",
    "print(f\"in our sample of all short term listings, there are {gdf.id.nunique()} total listings however there are only {gdf.host_id.nunique()} total hosts ...\")\n",
    "print(f\"... meaning there are {(gdf.id.nunique())-(gdf.host_id.nunique())} or {round((25571/76692)*100,2)}% more listings than hosts...\")\n",
    "print(f\"... with enough nightly accommodations for {pdf.accommodates.sum()} people with an average of {round(gdf.accommodates.mean(),1)} people per listing ...\")\n",
    "print(f\"... an average price for a listing of ${round(gdf.price.mean(),2)} per night...\")\n",
    "print(f\"... and at a profit of ${round(gdf.price.sum())} per night if all listings were booked at the same time\")"
   ]
  },
  {
   "cell_type": "code",
   "execution_count": null,
   "metadata": {},
   "outputs": [],
   "source": [
    "# now lets check statistics for all short term listings by hosts with more than one listing\n",
    "multi_host = gdf[gdf.host_id.duplicated(keep=False)]"
   ]
  },
  {
   "cell_type": "code",
   "execution_count": null,
   "metadata": {},
   "outputs": [],
   "source": [
    "# let's see the stats for all short term multi-host listings\n",
    "print(f\"in our sample of short term multi-host listings, there are {multi_host.id.nunique()} total listings however there are only {multi_host.host_id.nunique()} total hosts ...\")\n",
    "print(f\"... meaning there are {(multi_host.id.nunique())-(multi_host.host_id.nunique())} or {round((9186/34757)*100,2)}% more listings than hosts ...\")\n",
    "print(f\"... with enough nightly accommodations for {multi_host.accommodates.sum()} people with an average of {round(multi_host.accommodates.mean(),1)} people per listing ...\")\n",
    "print(f\"... an average price for a listing of ${round(multi_host.price.mean(),2)} per night ...\")\n",
    "print(f\"... and at a profit of ${round(multi_host.price.sum())} per night if all listings were booked at the same time.\")"
   ]
  },
  {
   "cell_type": "code",
   "execution_count": null,
   "metadata": {},
   "outputs": [],
   "source": [
    "# and lets compare the stats\n",
    "print(f\"in comparison, multi-host listings make up {round(multi_host.id.nunique()/gdf.id.nunique()*100,2)}% of total listings...\")\n",
    "print(f\"... meaning that only {multi_host.host_id.nunique()} or {round(multi_host.host_id.nunique()/gdf.host_id.nunique()*100,2)}% of all hosts control ...\")\n",
    "print(f\"... {round(multi_host.id.nunique()/gdf.id.nunique()*100,2)}% of all listings ...\")\n",
    "print(f\"... {round(multi_host.accommodates.sum()/gdf.accommodates.sum()*100,2)}% of all nightly accommodations at an average of {round(((multi_host.accommodates.mean())-(gdf.accommodates.mean())),1)} more people per listing ...\")\n",
    "print(f\"... and at an average of ${round(((multi_host.price.mean())-(gdf.price.mean())),2)} more per night ...\")\n",
    "print(f\"... for approximately {round(multi_host.price.sum()/gdf.price.sum()*100,2)}% of nighlty profits for all listings, if they were all booked at the same time.\")"
   ]
  },
  {
   "cell_type": "code",
   "execution_count": null,
   "metadata": {},
   "outputs": [],
   "source": [
    "# visualize statistics\n",
    "plt.figure(figsize = [10, 8])\n",
    "\n",
    "# Define data coordinates and labels\n",
    "hosts = ['41,935\\nsingle hosts', '9,186\\nmutli-hosts']\n",
    "hosts_num = [41935, 9186]\n",
    "listings = ['41,935\\nsingle-hosts', '34,757\\nmutli-hosts']\n",
    "listing_num = [41935, 34757]\n",
    "accoms = ['113,005 by\\nsingle-hosts', '104,487 by\\nmutli-hosts']\n",
    "accoms_num = [113005, 104487]\n",
    "profit = ['$3.5 mil from\\nsingle-hosts', '$3.3 mil from\\nmutli-hosts']\n",
    "profit_num = [3469210, 3332875]\n",
    "\n",
    "# number of hosts \n",
    "plt.subplot(2, 2, 1)\n",
    "plt.pie(hosts_num,labels=hosts, colors = ['darkgoldenrod','gold'], autopct='%1.1f%%', startangle=70, wedgeprops={'alpha':0.9})\n",
    "plt.title('Hosts', fontsize=14, color='black')\n",
    "\n",
    "# number of listings\n",
    "plt.subplot(2, 2, 2)\n",
    "plt.pie(listing_num,labels=listings, colors = ['darkgoldenrod','gold'], autopct='%1.1f%%', startangle=120, wedgeprops={'alpha':0.9})\n",
    "plt.title('Listings', fontsize=14, color='black')\n",
    "\n",
    "# number of people being accomodated\n",
    "plt.subplot(2, 2, 3) \n",
    "plt.pie(accoms_num,labels=accoms, colors = ['darkgoldenrod','gold'], autopct='%1.1f%%', startangle=120, wedgeprops={'alpha':0.9})\n",
    "plt.title('Guests per night', fontsize=14, color='black')\n",
    "\n",
    "# amount of profit\n",
    "plt.subplot(2, 2, 4) \n",
    "plt.pie(profit_num,labels=profit, colors = ['darkgoldenrod','gold'], autopct='%1.1f%%', startangle=120, wedgeprops={'alpha':0.9})\n",
    "plt.title('Profit per night', fontsize=14, color='black')\n",
    "\n",
    "# save fig\n",
    "path = os.path.join('','img')\n",
    "fn = 'fig1'\n",
    "\n",
    "if not os.path.exists(path):\n",
    "    print(f\"Creating {path} under {os.getcwd()}\")\n",
    "    os.makedirs(path)\n",
    "    \n",
    "plt.savefig(os.path.join(path,fn), index=False)\n",
    "print(\"Done.\")\n",
    "\n",
    "# show plot\n",
    "plt.show()"
   ]
  },
  {
   "cell_type": "code",
   "execution_count": null,
   "metadata": {},
   "outputs": [],
   "source": [
    "# number of multi host listings by type of property\n",
    "multi_host.property_type.value_counts()"
   ]
  },
  {
   "cell_type": "code",
   "execution_count": null,
   "metadata": {},
   "outputs": [],
   "source": [
    "# apartments make up more multi host listings than all other categories combined\n",
    "# let's look at number of multi host listings by type of room\n",
    "multi_host.room_type.value_counts()"
   ]
  },
  {
   "cell_type": "code",
   "execution_count": null,
   "metadata": {},
   "outputs": [],
   "source": [
    "# and the percentages ..\n",
    "# percentage of multi host listings by room type\n",
    "multi_host_room_per = round((multi_host.room_type.value_counts() / multi_host.shape[0] *100), 1)\n",
    "print(multi_host_room_per)"
   ]
  },
  {
   "cell_type": "code",
   "execution_count": null,
   "metadata": {},
   "outputs": [],
   "source": [
    "# theres a more even split here between entire homes/aprts and private rooms\n",
    "# let's visualize this ...\n",
    "plt.figure(figsize = [12, 8])\n",
    "\n",
    "# first subplot (1 row, 2 columns, position 1)\n",
    "plt.subplot(1, 2, 1)\n",
    "multi_host_freq = multi_host['room_type'].value_counts().sort_values(ascending=True)\n",
    "multi_host_freq.plot.barh(figsize =(10,3), width=1, color=['khaki','gold','goldenrod','darkgoldenrod'])\n",
    "plt.title(\"Multi-host Listings by Room Type\", fontsize=14)\n",
    "plt.grid(True)\n",
    "\n",
    "# second subplot (1 row, 2 columns, position 2)\n",
    "plt.subplot(1, 2, 2)\n",
    "labels = ['18575\\nHomes & Apt', '15844\\nPrivate', '338\\nShared & Hotel']\n",
    "sizes = [53.4, 45.6, 1.0]\n",
    "plt.pie(sizes,labels=labels, colors = ['darkgoldenrod','goldenrod','gold'], autopct='%1.1f%%', startangle=120, wedgeprops={'alpha':0.8})\n",
    "plt.title('Multi-host Listings by Room Type', fontsize=12, color='black', fontweight='bold')\n",
    "\n",
    "# save fig\n",
    "path = os.path.join('','img')\n",
    "fn = 'fig2'\n",
    "\n",
    "if not os.path.exists(path):\n",
    "    print(f\"Creating {path} under {os.getcwd()}\")\n",
    "    os.makedirs(path)\n",
    "    \n",
    "plt.savefig(os.path.join(path,fn), index=False)\n",
    "print(\"Done.\")\n",
    "\n",
    "plt.show()"
   ]
  },
  {
   "cell_type": "code",
   "execution_count": null,
   "metadata": {},
   "outputs": [],
   "source": [
    "# check counts\n",
    "multi_host.room_type.value_counts()"
   ]
  },
  {
   "cell_type": "code",
   "execution_count": null,
   "metadata": {},
   "outputs": [],
   "source": [
    "# check total\n",
    "multi_host.id.count()"
   ]
  },
  {
   "cell_type": "code",
   "execution_count": null,
   "metadata": {},
   "outputs": [],
   "source": [
    "# average price for multi listings by neighbourhood\n",
    "\n",
    "prices = multi_host.groupby(\n",
    "    [\"neighbourhood_cleansed\"], as_index=False\n",
    ").agg(\n",
    "    avg_price = (\"price\", \"mean\"),\n",
    "    qty = (\"price\", \"count\")\n",
    ").sort_values(\n",
    "    by=\"avg_price\", ascending=False\n",
    ").reset_index(drop=True)\n",
    "\n",
    "print(prices)"
   ]
  },
  {
   "cell_type": "code",
   "execution_count": null,
   "metadata": {},
   "outputs": [],
   "source": [
    "prices_map = lon_nbs.merge(prices, on='neighbourhood_cleansed')\n",
    "prices_map.head()"
   ]
  },
  {
   "cell_type": "code",
   "execution_count": null,
   "metadata": {},
   "outputs": [],
   "source": [
    "ax = prices_map.plot(figsize=(12,9), edgecolor='black', linewidth=1, alpha=0.7, column='avg_price', cmap='copper', scheme='Fisher_Jenks', legend=True, k=10)\n",
    "#ax = multi_host.plot(markersize=0.1, color = 'black', scheme='Fisher_Jenks', ax=ax)\n",
    "ax.set_title(\"Mean Price Distribution by Borough\", fontsize=14)\n",
    "plt.axis('off')\n",
    "\n",
    "path = os.path.join('','img')\n",
    "fn = 'fig3'\n",
    "\n",
    "if not os.path.exists(path):\n",
    "    print(f\"Creating {path} under {os.getcwd()}\")\n",
    "    os.makedirs(path)\n",
    "    \n",
    "plt.savefig(os.path.join(path,fn), index=False)\n",
    "print(\"Done.\")"
   ]
  },
  {
   "cell_type": "code",
   "execution_count": null,
   "metadata": {},
   "outputs": [],
   "source": [
    "# distribution of multi-listers by neighbourhood\n",
    "ax = prices_map.plot(figsize=(12,9), edgecolor='black', linewidth=1, alpha=0.7, column='qty', cmap='cividis', scheme='Fisher_Jenks', legend=True, k=8)\n",
    "#ax = multi_host.plot(markersize=0.1, color = 'black', scheme='Fisher_Jenks', ax=ax)\n",
    "ax.set_title(\"Distribution of Multi-host Listings by Borough\", fontsize=14)\n",
    "plt.axis('off')\n",
    "\n",
    "path = os.path.join('','img')\n",
    "fn = 'fig4'\n",
    "\n",
    "if not os.path.exists(path):\n",
    "    print(f\"Creating {path} under {os.getcwd()}\")\n",
    "    os.makedirs(path)\n",
    "    \n",
    "plt.savefig(os.path.join(path,fn), index=False)\n",
    "print(\"Done.\")"
   ]
  },
  {
   "cell_type": "code",
   "execution_count": null,
   "metadata": {},
   "outputs": [],
   "source": [
    "# geographic distribution of multi lisitings\n",
    "multi_host['neighbourhood_cleansed'].value_counts().sort_values(ascending=False)"
   ]
  },
  {
   "cell_type": "code",
   "execution_count": null,
   "metadata": {},
   "outputs": [],
   "source": [
    "# only keep neighbourhoods with over 600 listings (top 16)\n",
    "multi_host['neighbourhood_cleansed'].value_counts().loc[lambda x : x>600] "
   ]
  },
  {
   "cell_type": "code",
   "execution_count": null,
   "metadata": {},
   "outputs": [],
   "source": [
    "# distribution of multi-listers by neighbourhood\n",
    "nbd_distrib = multi_host['neighbourhood_cleansed'].value_counts().loc[lambda x : x>600]\n",
    "nbd_distrib.plot.barh(figsize =(12,8), width=1, color=['darkgoldenrod','gold'], edgecolor = \"black\")\n",
    "plt.title(\"Boroughs with over 600 Multi-host Listings\", fontsize=14)\n",
    "plt.grid(True)\n",
    "\n",
    "# save fig\n",
    "path = os.path.join('','img')\n",
    "fn = 'fig5'\n",
    "\n",
    "if not os.path.exists(path):\n",
    "    print(f\"Creating {path} under {os.getcwd()}\")\n",
    "    os.makedirs(path)\n",
    "    \n",
    "plt.savefig(os.path.join(path,fn), index=False)\n",
    "print(\"Done.\")\n",
    "\n",
    "plt.show()"
   ]
  },
  {
   "cell_type": "code",
   "execution_count": null,
   "metadata": {},
   "outputs": [],
   "source": [
    "# create a subset for our search for ghost hotels\n",
    "# we will drop shared rooms and hotel rooms right away and leave just apartments and private rooms\n",
    "ghost_hunt = gdf[gdf.host_id.duplicated(keep=False)]\n",
    "ghost_hunt = ghost_hunt[ghost_hunt.room_type != 'Shared room']\n",
    "ghost_hunt = ghost_hunt[ghost_hunt.room_type != 'Hotel room']"
   ]
  },
  {
   "cell_type": "code",
   "execution_count": null,
   "metadata": {},
   "outputs": [],
   "source": [
    "ghost_hunt.id.count()"
   ]
  },
  {
   "cell_type": "code",
   "execution_count": null,
   "metadata": {},
   "outputs": [],
   "source": [
    "# hosts with more than 25 listings\n",
    "freq1 = ghost_hunt.groupby(['host_id']).size().reset_index(name='num_host_listings')\n",
    "freq1 = freq1.sort_values(by=['num_host_listings'], ascending=False)\n",
    "freq1 = freq1[freq1['num_host_listings'] >= 25]\n",
    "freq1"
   ]
  },
  {
   "cell_type": "code",
   "execution_count": null,
   "metadata": {},
   "outputs": [],
   "source": [
    "freq1.sum()"
   ]
  },
  {
   "cell_type": "code",
   "execution_count": null,
   "metadata": {},
   "outputs": [],
   "source": [
    "freq1.count()"
   ]
  },
  {
   "cell_type": "code",
   "execution_count": null,
   "metadata": {},
   "outputs": [],
   "source": [
    "# hosts with more than 50 listings\n",
    "freq2 = ghost_hunt.groupby(['host_id']).size().reset_index(name='num_host_listings')\n",
    "freq2 = freq2.sort_values(by=['num_host_listings'], ascending=False)\n",
    "freq2 = freq2[freq2['num_host_listings'] >= 50]\n",
    "freq2"
   ]
  },
  {
   "cell_type": "code",
   "execution_count": null,
   "metadata": {},
   "outputs": [],
   "source": [
    "# hosts with more than 75 listings\n",
    "#Display hosts with more than 75 listings\n",
    "freq3 = ghost_hunt.groupby(['host_id']).size().reset_index(name='num_host_listings')\n",
    "freq3 = freq3.sort_values(by=['num_host_listings'], ascending=False)\n",
    "freq3 = freq3[freq3['num_host_listings'] >= 75]\n",
    "freq3"
   ]
  },
  {
   "cell_type": "code",
   "execution_count": null,
   "metadata": {},
   "outputs": [],
   "source": [
    "# hosts with more than 100 listings\n",
    "#Display hosts with more than 100 listings\n",
    "freq4 = ghost_hunt.groupby(['host_id']).size().reset_index(name='num_host_listings')\n",
    "freq4 = freq4.sort_values(by=['num_host_listings'], ascending=False)\n",
    "freq4 = freq4[freq4['num_host_listings'] >= 100]\n",
    "freq4"
   ]
  },
  {
   "cell_type": "code",
   "execution_count": null,
   "metadata": {},
   "outputs": [],
   "source": [
    "# let's look at the top host with 646 listings\n",
    "sus1 = ghost_hunt[ghost_hunt['host_id']==33889201]\n",
    "sus1 = sus1[['id', 'name', 'host_id', 'description', 'neighbourhood_cleansed', 'property_type', 'room_type', 'geometry']]\n",
    "sus1.index.name = \"id\"\n",
    "sus1.sample(8, random_state=42)"
   ]
  },
  {
   "cell_type": "code",
   "execution_count": null,
   "metadata": {},
   "outputs": [],
   "source": [
    "# the listings geographically scattered, but the listing name gives it away - \"Veeve\"\n",
    "sus1['name']"
   ]
  },
  {
   "cell_type": "code",
   "execution_count": null,
   "metadata": {},
   "outputs": [],
   "source": [
    "# a quick search reveals that Veeve actually seems to be either a competitor or partner to Airbnb\n",
    "# https://www.veeve.com/en-gb/\n",
    "# this is a proffesionally managed host\n",
    "\n",
    "# let's try another - host 21867370 with 51\n",
    "sus2 = ghost_hunt[ghost_hunt['host_id']==21867370]\n",
    "sus2 = sus2[['id', 'name', 'host_id', 'description', 'neighbourhood_cleansed', 'property_type', 'room_type', 'geometry']]\n",
    "sus2.index.name = \"id\"\n",
    "sus2.sample(8, random_state=42)"
   ]
  },
  {
   "cell_type": "code",
   "execution_count": null,
   "metadata": {},
   "outputs": [],
   "source": [
    "# Listing geographies again seem scattered, but the description and names are to identical and have been classified by the host\n",
    "# seems to be another professionally managed host\n",
    "\n",
    "# lets try another - this time host 57166466 with 31\n",
    "sus3 = ghost_hunt[ghost_hunt['host_id']==57166466]\n",
    "sus3 = sus3[['id', 'name', 'host_id', 'description', 'neighbourhood_cleansed', 'property_type', 'room_type', 'geometry']]\n",
    "sus3.index.name = \"id\"\n",
    "sus3.sample(8, random_state=42)"
   ]
  },
  {
   "cell_type": "code",
   "execution_count": null,
   "metadata": {},
   "outputs": [],
   "source": [
    "# same trend here - the posts are nearlly identical and have been classified by the host\n",
    "# will call this also professionally managed\n",
    "\n",
    "# last one - this time host 40412482 with 25\n",
    "sus4 = ghost_hunt[ghost_hunt['host_id']==40412482]\n",
    "sus4 = sus4[['id', 'name', 'host_id', 'description', 'neighbourhood_cleansed', 'property_type', 'room_type', 'geometry']]\n",
    "sus4.index.name = \"id\"\n",
    "sus4.sample(8, random_state=42)"
   ]
  },
  {
   "cell_type": "code",
   "execution_count": null,
   "metadata": {},
   "outputs": [],
   "source": [
    "# once again, this hosts listings are identical and seperated by a code\n",
    "\n",
    "# it is clear that property management companies are having a major impact\n",
    "# it seems like host ids are seemingly more likely to correspond to an agent then an acutal host\n",
    "# this means that the actual property owner could literally be anyone (investor, business/corporation, indidvudal, foregin property owner)"
   ]
  },
  {
   "cell_type": "code",
   "execution_count": null,
   "metadata": {},
   "outputs": [],
   "source": [
    "# lets do the same excersie but with just private rooms this time\n",
    "private_rooms = ghost_hunt[ghost_hunt['room_type'] == \"Private room\"]\n",
    "pr_hosts = private_rooms.groupby(['host_id']).size().reset_index(name='private_rooms').sort_values(by=['private_rooms'], ascending=False)\n",
    "pr_hosts.head(60)"
   ]
  },
  {
   "cell_type": "code",
   "execution_count": null,
   "metadata": {},
   "outputs": [],
   "source": [
    "# lets look at four randomly across the range\n",
    "\n",
    "# first the top host 13557337 with 112\n",
    "sus5 = ghost_hunt[ghost_hunt['host_id']==13557337]\n",
    "sus5 = sus5[['id', 'name', 'host_id', 'description', 'neighbourhood_cleansed', 'property_type', 'room_type', 'geometry']]\n",
    "sus5.index.name = \"id\"\n",
    "sus5.sample(8, random_state=42)"
   ]
  },
  {
   "cell_type": "code",
   "execution_count": null,
   "metadata": {},
   "outputs": [],
   "source": [
    "# identical listing names and descriptiions, seperated by code, same neighbourhood\n",
    "\n",
    "# now host 56784981 with 39\n",
    "sus6 = ghost_hunt[ghost_hunt['host_id']==56784981]\n",
    "sus6 = sus6[['id', 'name', 'host_id', 'description', 'neighbourhood_cleansed', 'property_type', 'room_type', 'geometry']]\n",
    "sus6.index.name = \"id\"\n",
    "sus6.sample(8, random_state=42)"
   ]
  },
  {
   "cell_type": "code",
   "execution_count": null,
   "metadata": {},
   "outputs": [],
   "source": [
    "# another host with identical listing names and descriptiions, seperated by code, and in the same neighbourhood\n",
    "\n",
    "# now host 51439158 with 23\n",
    "sus7 = ghost_hunt[ghost_hunt['host_id']==51439158]\n",
    "sus7 = sus7[['id', 'name', 'host_id', 'description', 'neighbourhood_cleansed', 'property_type', 'room_type', 'geometry']]\n",
    "sus7.index.name = \"id\"\n",
    "sus7.sample(8, random_state=42)"
   ]
  },
  {
   "cell_type": "code",
   "execution_count": null,
   "metadata": {},
   "outputs": [],
   "source": [
    "# similar listing names and descriptiions, but more geographically dispursed\n",
    "\n",
    "# lastly host 17539274 with 15\n",
    "sus8 = ghost_hunt[ghost_hunt['host_id']==17539274]\n",
    "sus8 = sus8[['id', 'name', 'host_id', 'description', 'neighbourhood_cleansed', 'property_type', 'room_type', 'geometry']]\n",
    "sus8.index.name = \"id\"\n",
    "sus8.sample(8, random_state=42)"
   ]
  },
  {
   "cell_type": "code",
   "execution_count": null,
   "metadata": {},
   "outputs": [],
   "source": [
    "# this host has codes again, similar descriptions, and seemingly favoured neighbourhoods\n",
    "\n",
    "# lets plot our suspects to get a sense of their geographic concentration\n",
    "\n",
    "sus1 = ghost_hunt[ghost_hunt['host_id']==33889201].copy()\n",
    "print(sus1.shape)\n",
    "\n",
    "sus2 = ghost_hunt[ghost_hunt['host_id']==21867370].copy()\n",
    "print(sus2.shape)\n",
    "\n",
    "sus3 = ghost_hunt[ghost_hunt['host_id']==57166466].copy()\n",
    "print(sus3.shape)\n",
    "\n",
    "sus4 = ghost_hunt[ghost_hunt['host_id']==40412482].copy()\n",
    "print(sus4.shape)\n",
    "\n",
    "sus5 = ghost_hunt[ghost_hunt['host_id']==13557337].copy()\n",
    "print(sus5.shape)\n",
    "\n",
    "sus6 = ghost_hunt[ghost_hunt['host_id']==56784981].copy()\n",
    "print(sus6.shape)\n",
    "\n",
    "sus7 = ghost_hunt[ghost_hunt['host_id']==51439158].copy()\n",
    "print(sus7.shape)\n",
    "\n",
    "sus8 = ghost_hunt[ghost_hunt['host_id']==17539274].copy()\n",
    "print(sus8.shape)"
   ]
  },
  {
   "cell_type": "code",
   "execution_count": null,
   "metadata": {},
   "outputs": [],
   "source": [
    "plt.figure(figsize = [12, 8])\n",
    "\n",
    "ax = lon_nbs.plot(figsize=(12,9), edgecolor='gray', facecolor='none', linewidth=1, alpha=0.9, scheme='Fisher_Jenks')\n",
    "\n",
    "# Host 1 - 646\n",
    "ax1 = sus1.plot(markersize=8, color = 'lightskyblue', scheme='Fisher_Jenks', ax=ax)\n",
    "# Host 2 - 51\n",
    "ax2 = sus2.plot(markersize=10, color = 'darkgreen', scheme='Fisher_Jenks', ax=ax)\n",
    "# Host 3 - 31\n",
    "ax3 = sus3.plot(markersize=10, color = 'darkorange', scheme='Fisher_Jenks', ax=ax)\n",
    "# Host 4 - 25\n",
    "ax4 = sus4.plot(markersize=10, color = 'darkred', scheme='Fisher_Jenks', ax=ax)\n",
    "\n",
    "ax.set_title(\"Geographic Distribution of Sample One\\n\\n4 hosts / 752 listings\", fontsize=14)\n",
    "plt.axis('off');\n",
    "\n",
    "path = os.path.join('','img')\n",
    "fn = 'fig6'\n",
    "\n",
    "if not os.path.exists(path):\n",
    "    print(f\"Creating {path} under {os.getcwd()}\")\n",
    "    os.makedirs(path)\n",
    "    \n",
    "plt.savefig(os.path.join(path,fn), index=False)\n",
    "print(\"Done.\")"
   ]
  },
  {
   "cell_type": "code",
   "execution_count": null,
   "metadata": {},
   "outputs": [],
   "source": [
    "plt.figure(figsize = [12, 8])\n",
    "\n",
    "ax = lon_nbs.plot(figsize=(12,9), edgecolor='gray', facecolor='none', linewidth=1, alpha=0.9, scheme='Fisher_Jenks')\n",
    "\n",
    "# Host 5 - 112\n",
    "ax = sus5.plot(markersize=8, color = 'lightskyblue', scheme='Fisher_Jenks', ax=ax)\n",
    "# Host 6 - 39\n",
    "ax = sus6.plot(markersize=10, color = 'darkgreen', scheme='Fisher_Jenks', ax=ax)\n",
    "# Host 7 - 23\n",
    "ax = sus7.plot(markersize=10, color = 'darkorange', scheme='Fisher_Jenks', ax=ax)\n",
    "# Host 8 - 15\n",
    "ax = sus8.plot(markersize=10, color = 'darkred', scheme='Fisher_Jenks', ax=ax)\n",
    "\n",
    "ax.set_title(\"Geographic Distribution of Sample Two\\n\\n4 hosts / 189 listings\", fontsize=14)\n",
    "plt.axis('off');\n",
    "\n",
    "path = os.path.join('','img')\n",
    "fn = 'fig7'\n",
    "\n",
    "if not os.path.exists(path):\n",
    "    print(f\"Creating {path} under {os.getcwd()}\")\n",
    "    os.makedirs(path)\n",
    "    \n",
    "plt.savefig(os.path.join(path,fn), index=False)\n",
    "print(\"Done.\")"
   ]
  },
  {
   "cell_type": "markdown",
   "metadata": {},
   "source": [
    "#### Coding Credits"
   ]
  },
  {
   "cell_type": "markdown",
   "metadata": {},
   "source": [
    "1. [Yıldırım, S. (2021b). Data Cleaning and EDA on Airbnb Dataset with Python Pandas and Seaborn. Medium. Available at: https://towardsdatascience.com/data-cleaning-and-eda-on-airbnb-dataset-with-python-pandas-and-seaborn-7c276116b650 (Accessed: 25 January 2022).](https://towardsdatascience.com/data-cleaning-and-eda-on-airbnb-dataset-with-python-pandas-and-seaborn-7c276116b650)\n",
    "\n",
    "2. [Yıldırım, S. (2021a). Airbnb Data Analysis With Pandas and Seaborn. Medium. Available at: https://betterprogramming.pub/airbnb-data-analysis-with-pandas-and-seaborn-11ceebba1eab (Accessed: 25 January 2022).](https://betterprogramming.pub/airbnb-data-analysis-with-pandas-and-seaborn-11ceebba1eab)\n",
    "\n",
    "3. [Mendes, B. (2021). AirBnB_Data_Analysis_Toronto. Available at: https://github.com/brunacmendes/Airbnb_Data_Analysis_Toronto/blob/7970932ccaa473cf2fc8a9b6b0a698e733ac5b47/Airbnb_Listings_Data_Analysis_Toronto.ipynb (Accessed: 25 January 2022).](https://github.com/brunacmendes/Airbnb_Data_Analysis_Toronto/blob/main/Airbnb_Listings_Data_Analysis_Toronto.ipynb)\n",
    "\n",
    "4. [‘End-to-End Predictive Analysis on AirBnB Listings Data’. (2021). Analytics Vidhya, 5 October. Available at: https://www.analyticsvidhya.com/blog/2021/10/end-to-end-predictive-analysis-on-airbnb-listings-data/ (Accessed: 25 January 2022).](https://www.analyticsvidhya.com/blog/2021/10/end-to-end-predictive-analysis-on-airbnb-listings-data/)\n",
    "\n",
    "5. [Python/Project. AirBnB Part B (Python- Interactive Map, Natural Language Processing) .ipynb at master · Lukastuong123/Python. (no date). GitHub. Available at: https://github.com/Lukastuong123/Python (Accessed: 25 January 2022).](https://github.com/Lukastuong123/Python/blob/master/Project-%20Airbnb%20(Python-%20Interactive%20Map%2C%20Natural%20Language%20Processing%2C%20Comparative%20Study%2C%20Regression)/Project.%20AirBnB%20Part%20B%20(Python-%20Interactive%20Map%2C%20Natural%20Language%20Processing)%20.ipynb)\n",
    "\n",
    "6. [Tukel, E. (2022). Spatial analysis of Istanbul Airbnb dataset using GeoPandas. Medium. Available at: https://towardsdev.com/spatial-analysis-of-istanbul-airbnb-dataset-using-geopandas-bc2403f8e2d8 (Accessed: 25 January 2022).](https://towardsdev.com/spatial-analysis-of-istanbul-airbnb-dataset-using-geopandas-bc2403f8e2d8)\n",
    "\n",
    "7. [Week 5: Spatial Data Manipulation and Visualization I — Introduction to Geoprocessing. (no date). Available at: https://spatial-networks-lab.pages.gitlab.kuleuven.be/igp-course-website-2021/week5.html (Accessed: 25 January 2022).](https://spatial-networks-lab.pages.gitlab.kuleuven.be/igp-course-website-2021/week5.html)\n",
    "\n",
    "8. [Nathan, P. (2020). Visualizing Geospatial Data in Python. Medium. Available at: https://towardsdatascience.com/visualizing-geospatial-data-in-python-e070374fe621 (Accessed: 25 January 2022).](https://towardsdatascience.com/visualizing-geospatial-data-in-python-e070374fe621)\n",
    "\n",
    "9. [Kumara, H. (2020). ‘How to drop rows based on column values using Pandas Dataframe’. Medium, 28 May. Available at: https://medium.com/@harsz89/how-to-drop-rows-based-on-column-values-using-pandas-dataframe-38cf50e4c95a (Accessed: 25 January 2022).](https://medium.com/@harsz89/how-to-drop-rows-based-on-column-values-using-pandas-dataframe-38cf50e4c95a)\n",
    "\n",
    "10. [GeoPandas 0.10.2+0.g04d377f.dirty — GeoPandas 0.10.2+0.g04d377f.dirty documentation. (no date). Available at: https://geopandas.org/en/stable/index.html (Accessed: 25 January 2022).](https://geopandas.org/en/stable/index.html)\n",
    "\n",
    "11. [Matplotlib documentation — Matplotlib 3.5.1 documentation. (no date). Available at: https://matplotlib.org/stable/index.html (Accessed: 25 January 2022).](https://matplotlib.org/stable/index.html)\n",
    "\n",
    "12. [8 Python Pandas Value_counts() tricks that make your work more efficient. (2020). Re-thought. Available at: https://re-thought.com/pandas-value_counts/ (Accessed: 25 January 2022).](https://re-thought.com/pandas-value_counts/)\n",
    "\n",
    "13. [Kumar, B. (2021). ‘Matplotlib Pie Chart Tutorial - Python Guides’, 26 December. Available at: https://pythonguides.com/matplotlib-pie-chart/ (Accessed: 25 January 2022).](https://pythonguides.com/matplotlib-pie-chart/)"
   ]
  },
  {
   "cell_type": "markdown",
   "metadata": {},
   "source": [
    "---"
   ]
  },
  {
   "cell_type": "markdown",
   "metadata": {},
   "source": [
    "## Part 2 - Executive Briefing"
   ]
  },
  {
   "cell_type": "markdown",
   "metadata": {},
   "source": [
    "---"
   ]
  },
  {
   "cell_type": "markdown",
   "metadata": {},
   "source": [
    "### 1 Executive Summary"
   ]
  },
  {
   "cell_type": "markdown",
   "metadata": {},
   "source": [
    "As of 2021, online accommodation marketplace Airbnb had 5.6 million listings worldwide (Airbnb News 2021) enabling ordinary \n",
    "people to share ‘their homes a few nights a month to earn extra income’ (Ngabo 2018). However, the business model has given \n",
    "rise to a shadow industry characterized by the phenomenon of ghost hotels - short term rental (STRs) that are not occupied by \n",
    "the owner and operate are managed by a company (Chevalier 2019).\n",
    "\n",
    "This shadow industry is negatively impacting the housing market when, in many cities globally, housing availability and \n",
    "affordability are in crisis (Shabrina et al 2021). This report provides an analysis of Airbnb activity in London based on data \n",
    "sourced from the Inside Airbnb website for the month of August 2019 – the last summer month prior to the COVID-19 pandemic.\n",
    "\n",
    "Through exploratory data analysis we set out to answer three main questions about Airbnb in London:\n",
    "\n",
    "1.\tHow many listings are not a primary residence of the host?\n",
    "2.\tTo what extent are listings professionally managed?\n",
    "3.\tWhat is the geographic concentration of such listings?"
   ]
  },
  {
   "cell_type": "markdown",
   "metadata": {},
   "source": [
    "#### Key Findings"
   ]
  },
  {
   "cell_type": "markdown",
   "metadata": {},
   "source": [
    "- While only 18% of hosts have multiple listings, they represent 45.3% of all listings and an estimated 49% of all profits\n",
    "- 115 hosts have 25+ listings each and account for 5952 listings alone \n",
    "- 11 boroughs have 1000+ listings by hosts with multiple listings\n",
    "- Most multi-listing hosts seem to be well-established professional operations\n",
    "- High concentrations of listings suggest not only ghost hotels, but ghost neighbourhoods"
   ]
  },
  {
   "cell_type": "markdown",
   "metadata": {},
   "source": [
    "#### Recommendations to the Mayor"
   ]
  },
  {
   "cell_type": "markdown",
   "metadata": {},
   "source": [
    "While implementing the ‘90-day rule’ in 2017, research suggests that further Airbnb regulations benefit cities with a higher \n",
    "tourism like London (Grimmer, et. al. 2019). Accordingly, the following recommendations aim to provide a path forward:\n",
    "\n",
    "1.\tEstablish definitions for STRs and principal residences;\n",
    "2.\tUse the definitions to draft legislation requiring STRs to be registered and/or licensed with the city; and\n",
    "3.\tUse registration/licenses to enforce the following requirements:\n",
    "    -\tthat STRs to include the registration/license number in their listing;\n",
    "    -\tthat STRs only be permitted in an owner's principal residence; and\n",
    "    -\tthat only STRs with registration/license numbers be permitted to be professionally managed."
   ]
  },
  {
   "cell_type": "markdown",
   "metadata": {},
   "source": [
    "---"
   ]
  },
  {
   "cell_type": "markdown",
   "metadata": {},
   "source": [
    "### 2 Background"
   ]
  },
  {
   "cell_type": "markdown",
   "metadata": {},
   "source": [
    "#### Airbnb\n",
    "\n",
    "Airbnb is a global, online platform operating as a marketplace where users can ‘list their space and book unique accommodations \n",
    "anywhere in the world’ (Airbnb 2021). While Airbnb’s messaging suggests it facilitates homeowners to make extra income by \n",
    "offering their spare rooms or their entire home for when they are away (Airbnb 2021), there is also substantial evidence the \n",
    "platform both directly (Cox & Slee 2016) and indirectly (Bivens 2019) limits transparency needed for proper enforcement. On the \n",
    "surface, Airbnb’s promise as part of the sharing economy seems genuine, however, data has demonstrated the platform has \n",
    "transitioned to ‘commercial-style Airbnb’s’ (Nieuwland & van Melik 2020) where most listings are for ‘entire homes, many of \n",
    "which are rented all year round - disrupting housing and communities’ (Inside Airbnb 2022). "
   ]
  },
  {
   "cell_type": "markdown",
   "metadata": {},
   "source": [
    "#### Inside Airbnb\n",
    "\n",
    "Inside Airbnb is an activist project which sources, cleans, analyzes and aggregates publicly available data from the Airbnb \n",
    "website. The service, which represents a growing movement pushing STR platforms to pay their fair share (Wachsmuth & Weisler 2018), \n",
    "scrapes data from the Airbnb website to contextualize impacts on housing markets and support ongoing debate (Inside Airbnb 2022). \n",
    "While owner information is not public, according to Fairbnb (2019) ‘Airbnb has access to data that makes it clear to them who those \n",
    "ghost hotel operators are’ and therefore could implement regulation to stop them."
   ]
  },
  {
   "cell_type": "markdown",
   "metadata": {},
   "source": [
    "#### 'Ghost Hotels'\n",
    "\n",
    "Ghost hotels is a term used to describe Airbnb listings that are not part of the sharing economy, but rather ‘homes and units, \n",
    "often purchased in bulk by corporations and taken permanently off the rental market’ (ONeil 2019, Cocola-Gant and Gago 2019). \n",
    "By virtue of using an online platform and self check-in, they effectively operate as ‘small-scale lodging companies’ or ‘mini hotels’\n",
    "(Bivens 2019) and are in complete opposition to the ‘connection [and] deeply personal experience’ (Chesky et al. 2021) that is, \n",
    "according to Airbnb, at its core. While some regulation has been put in place in London, such as automatic booking limits to 90 \n",
    "nights per year (Airbnb 2022), ghost hotels have found workarounds to continue to operate and turn entire buildings into hotels (Temperton 2020)."
   ]
  },
  {
   "cell_type": "markdown",
   "metadata": {},
   "source": [
    "---"
   ]
  },
  {
   "cell_type": "markdown",
   "metadata": {},
   "source": [
    "### 3 Analysis"
   ]
  },
  {
   "cell_type": "markdown",
   "metadata": {},
   "source": [
    "At all points of this analysis, fields that could potentially contain personal or identifiable information have been removed. This \n",
    "analysis has been completed based on the following methodology:\n",
    "\n",
    "- **STEP 1:** Find ‘hotel rooms’ – filter listings based on minimum stay offered and by hosts with multiple listings\n",
    "- **STEP 2:** Find ‘hotel staff’ – analyze similarity and professionalism within the name and descriptions fields of listings\n",
    "- **STEP 3:** Find ‘hotels’ – explore the geographical concentration of listings by hosts with multiple listings"
   ]
  },
  {
   "cell_type": "markdown",
   "metadata": {},
   "source": [
    "#### QUESTION ONE - How many listings are not the primary residence of the host?\n",
    "\n",
    "Data from August 2019 revealed 84412 total listings. During data cleaning, only listings with minimum stays less than 28 days were kept. \n",
    "This left 76692 listings (98.3%), but only 51121 total hosts - a difference of 25571 listings. Next, all hosts with single-listings were \n",
    "removed, leaving only hosts with multiple listings for analysis – 34757 listings. \n",
    "\n",
    "Figure 1 provides a comparison of findings between single-hosts and multi-hosts. The findings of this report confirm that, like findings \n",
    "of prior studies conducted in other cities (Bivens 2019, Dogru, et. al. 2020), London’s Airbnb supply relies heavily on hosts of multiple \n",
    "units for its listings and revenue. It should be noted that People Accommodated and Profit are meant to be per night estimates assuming \n",
    "full bookings.\n",
    "\n",
    "##### Figure 1 – Comparison of Single-host Listings to Multi-host Listings\n",
    "![fig1](img/fig1.png)"
   ]
  },
  {
   "cell_type": "markdown",
   "metadata": {},
   "source": [
    "#### QUESTION TWO - To what extent are listings professionally managed?"
   ]
  },
  {
   "cell_type": "markdown",
   "metadata": {},
   "source": [
    "Two samples of four hosts each were taken to analyze their name and description fields. The first sample was from all multi-host listings. \n",
    "The second sample was from a sub-set of multi-host listings consisting only of private room listings. The hosts have been anonymized in this report.\n",
    "\n",
    "##### Sample One\n",
    "\n",
    "The four hosts sampled offered 753 listings, ranging from 646 to 25 listings each. Another sample of eight random listings was taken \n",
    "from each of the four hosts. The name and description fields used by three of the hosts were nearly identical and all three also \n",
    "classified their listings by a code – like a hotel suite. For example, one host had three different listings labelled GR R1, GR R4, \n",
    "and GR R7. While the host with 646 listings did not classify or use identical descriptions, the name of every listing included the name \n",
    "of a company. After further research, this company was determined to be a property management company that manages listings on behalf of \n",
    "private owners. It is more likely that this host is an agent than a homeowner and exemplifies how property management companies have come \n",
    "to represent the ‘professional business of Airbnb rentals’ (Leshinsky & Schatz 2018) while ensuring ‘absentee property owners’ (Bivens 2019) \n",
    "remain anonymous from enforcement.\n",
    "\n",
    "##### Sample Two\n",
    "\n",
    "The four hosts of sample two offered 189 listings, ranging from 112 to 15 listings each. Another sample of eight random listings was taken \n",
    "from each of these four hosts. Once again, the name and description fields of all host’s listings were either nearly identical or very similar. \n",
    "Similarly, three of the four hosts classified their listings by code. "
   ]
  },
  {
   "cell_type": "markdown",
   "metadata": {},
   "source": [
    "#### QUESTION THREE - What is the concentration of the listings identified above?"
   ]
  },
  {
   "cell_type": "markdown",
   "metadata": {},
   "source": [
    "Figures 2 and 3 show the distribution of multi-host listings by borough. Multi-listings are spread throughout London but are highly \n",
    "concentrated in the inner-boroughs – especially Westminster, Tower Hamlets, Camden, and Kensington and Chelsea. This remains consistent \n",
    "with a 2016 study which found the highest concentration of Airbnb listings in the same four boroughs (Ferreri & Sanyal 2018).\n",
    "\n",
    "##### Figure 2 - Density of Multi-host Listings by Borough\n",
    "![fig4](image/fig4.png)\n",
    "\n",
    "##### Figure 3 – Boroughs Ranked by Number of Multi-host Listings\n",
    "![fig5](image/fig5.png)\n",
    "\n",
    "Figure 4 shows the geographic distribution of sampled professionally managed listings. The green and blue hosts are geographically \n",
    "dispersed predominantly within the inner boroughs. The red and yellow hosts however are very concentrated. For example, the red host \n",
    "has 25 listings but seemingly only 3 overlapping points.\n",
    "\n",
    "##### Figure 4 - Concentration of Sample One - Multi-host Listings\n",
    "![fig6](image/fig6.png)\n",
    "\n",
    "Figure 5 shows the geographic concentration of sampled private room listings. There is clearly a much higher concentration among this \n",
    "sample than the previous one. For instance, the red, yellow, and green hosts have 15, 23, and 39 listings each, but only appear to have \n",
    "4, 3, and 3 points each, respectively. There is a high probability that ghost hotels are present within this sample. The blue host seems \n",
    "more dispersed but is still highly centred on a single neighbourhood - Tower Hamlets. Collectively, all four hosts can be seen as an \n",
    "illustration of the potential for listings to dominate ‘entire apartment blocks or even neighbourhoods’ (Nieuwland & van Melik 2020). \n",
    "\n",
    "##### Figure 5 - Concentration of Sample Two - Private Room Listings\n",
    "![fig7](image/fig7.png)"
   ]
  },
  {
   "cell_type": "markdown",
   "metadata": {},
   "source": [
    "---"
   ]
  },
  {
   "cell_type": "markdown",
   "metadata": {},
   "source": [
    "### 4 Conclusion"
   ]
  },
  {
   "cell_type": "markdown",
   "metadata": {},
   "source": [
    "It is clear from this analysis that hosts with multiple listings dominate the STR market in London. The ’90-day-rule” has not prevented \n",
    "the displacement of rental units in favour of STR, income generating properties. Further rules need to be put in place starting by \n",
    "establishing clear definitions for STRs and principal residences. Once these definitions are established, they need to be linked through \n",
    "accompanying legislation that requires STRs to be registered/licensed by their owner and for the registration/license number to be displayed\n",
    "in all listings of the STR.\n",
    "\n",
    "Once STRs are required to be registered/licensed, enforcement becomes much easier. London authorities and administrative staff will be \n",
    "able to determine whether an STR is the owner’s private residence. Further, requiring STRs to be registered and/or licensed with the \n",
    "city would also allow enforcement to begin that prohibits professional management companies from representing or providing services to \n",
    "STRs that are not registered/licensed. By illuminating the practice, the negative impacts of the STR shadow industry can be monitored and addressed."
   ]
  },
  {
   "cell_type": "markdown",
   "metadata": {},
   "source": [
    "---"
   ]
  },
  {
   "cell_type": "markdown",
   "metadata": {},
   "source": [
    "### 5 Bibliography"
   ]
  },
  {
   "cell_type": "markdown",
   "metadata": {},
   "source": [
    "1. [Airbnb (2022) ‘About us’ (WWW) Airbnb Newsroom (https://news.airbnb.com/about-us/; 20 January 2022).](https://news.airbnb.com/about-us/)\n",
    "\n",
    "2. [Airbnb (2022) ‘Responsible hosting in the United Kingdom’ (WWW) Airbnb Help Centre (https://www.airbnb.ca/help/article/1379/responsible-hosting-in-the-united-kingdom; 20 January 2022).](https://www.airbnb.ca/help/article/1379/responsible-hosting-in-the-united-kingdom)\n",
    "\n",
    "3. [Airbnb (2022) ‘What is Airbnb and how does it work?’ (WWW) Airbnb Help Centre (https://www.airbnb.ca/help/article/2503/what-is-airbnb-and-how-does-it-work; 20 January 2022).](https://www.airbnb.ca/help/article/2503/what-is-airbnb-and-how-does-it-work)\n",
    "\n",
    "4. [Bivens, J. (2019). ‘The economic costs and benefits of Airbnb: No reason for local policymakers to let Airbnb bypass tax or regulatory obligations’. Economic Policy Institute. Available at: https://www.epi.org/publication/the-economic-costs-and-benefits-of-airbnb-no-reason-for-local-policymakers-to-let-airbnb-bypass-tax-or-regulatory-obligations/ (Accessed: 26 January 2022).](https://www.epi.org/publication/the-economic-costs-and-benefits-of-airbnb-no-reason-for-local-policymakers-to-let-airbnb-bypass-tax-or-regulatory-obligations/)\n",
    "\n",
    "5. [Chesky, B., Blecharcyzk, N. and Gebbia, J. (2021) ‘What Makes Airbnb, Airbnb’, (WWW) Airbnb Newsroom (https://news.airbnb.com/what-makes-airbnb-airbnb/; 20 January 2022).](https://news.airbnb.com/what-makes-airbnb-airbnb/)\n",
    "\n",
    "6. [Chevalier, J. (2019) ‘These guys are predators’: Condo owner says home turned into Airbnb ‘ghost hotel’ (WWW) CBC News (https://www.cbc.ca/news/canada/ottawa/condo-owner-violated-airbnb-ghost-hotel-1.5122219; 20 January 2022).](https://www.cbc.ca/news/canada/ottawa/condo-owner-violated-airbnb-ghost-hotel-1.5122219)\n",
    "\n",
    "7. [Cocola-Gant, A. and Gago, A. (2021) ‘Airbnb, buy-to-let investment and tourism-driven displacement: A case study in Lisbon’, Environment and Planning A: Economy and Space, 53(7), pp. 1671–1688.](https://doi.org/10.1177/0308518X19869012)\n",
    "\n",
    "8. [Cox, M. and Slee, T. (2016). ‘How Airbnb’s data hid the facts in New York City’, p. 16.](http://insideairbnb.com/reports/how-airbnbs-data-hid-the-facts-in-new-york-city.pdf)\n",
    "\n",
    "9. [Dogru, T., Mody, M., Suess, C., Line, N. and Bonn, M. (2020). ‘Airbnb 2.0: Is it a sharing economy platform or a lodging corporation?’ Tourism Management, 78, p. 104049. doi: 10.1016/j.tourman.2019.104049.](https://doi.org/10.1016/j.tourman.2019.104049)\n",
    "        \n",
    "10. [Ferreri, M. and Sanyal, R. (2018). ‘Platform economies and urban planning: Airbnb and regulated deregulation in London’. Urban Studies. SAGE Publications Ltd, 55 (15), pp. 3353–3368. doi: 10.1177/0042098017751982.](https://doi.org/10.1177/0042098017751982)\n",
    "        \n",
    "11. [Grimmer, L., Vorobjovas-Pinta, O. and Massey, M. (2019). ‘Regulating, then deregulating Airbnb: The unique case of Tasmania (Australia)’. Annals of Tourism Research, 75, pp. 304–307. doi: 10.1016/j.annals.2019.01.012.](https://doi.org/10.1016/j.annals.2019.01.012)\n",
    "        \n",
    "12. [Inside Airbnb (2022) ‘Inside Airbnb. Adding data to the debate’ (WWW) Inside Airbnb (http://insideairbnb.com; 20 January 2022).](http://insideairbnb.com/)\n",
    "\n",
    "13. [Leshinsky, R. and Schatz, L. (2018). ‘“I Don’t Think My Landlord Will Find Out:” Airbnb and the Challenges of Enforcement’. Urban Policy and Research. Routledge, 36 (4), pp. 417–428. doi: 10.1080/08111146.2018.1429260.](https://doi-org.libproxy.ucl.ac.uk/10.1080/08111146.2018.1429260)\n",
    "\n",
    "14. [Ngabo, G. (2018) ‘Home-sharing watchdog warns of “ghost hotels”’ (WWW) The Toronto Star (https://www.thestar.com/news/gta/2018/12/17/home-sharing-watchdog-warns-of-ghost-hotels.html; 20 January 2022).](https://www.thestar.com/news/gta/2018/12/17/home-sharing-watchdog-warns-of-ghost-hotels.html)\n",
    "\n",
    "15. [Nieuwland, S. and van Melik, R. (2020). ‘Regulating Airbnb: how cities deal with perceived negative externalities of short-term rentals’. Current Issues in Tourism. Routledge, 23 (7), pp. 811–825. doi: 10.1080/13683500.2018.1504899.](https://doi-org.libproxy.ucl.ac.uk/10.1080/13683500.2018.1504899)\n",
    "\n",
    "16. [O’Neil, L. (2019) ‘Toronto officially asks Airbnb to take down ghost hotels’ (WWW) BlogTO (https://www.blogto.com/real-estate-toronto/2019/02/airbnb-toronto-ghost-hotels-city-council-vote/; 20 January 2022).](https://www.blogto.com/real-estate-toronto/2019/02/airbnb-toronto-ghost-hotels-city-council-vote/)\n",
    "\n",
    "17. [Shabrina, Z., Arcaute, E. and Batty, M. (2022a) ‘Airbnb and its potential impact on the London housing market’, Urban Studies, 59(1), pp. 197–221.](https://doi.org/10.1177/0042098020970865)\n",
    "\n",
    "18. [Temperton, J. (2020) ‘I stumbled across a huge Airbnb scam that’s taking over London’ (WWW) Wired UK (https://www.wired.co.uk/article/airbnb-scam-london; 20 January2022).](https://www.wired.co.uk/article/airbnb-scam-london)\n",
    "\n",
    "19. [Wachsmuth, D. and Weisler, A. (2018). ‘Airbnb and the rent gap: Gentrification through the sharing economy’. Environment and Planning A: Economy and Space. SAGE Publications Ltd, 50 (6), pp. 1147–1170. doi: 10.1177/0308518X18778038.](https://doi.org/10.1177/0308518X18778038)"
   ]
  },
  {
   "cell_type": "code",
   "execution_count": null,
   "metadata": {},
   "outputs": [],
   "source": []
  }
 ],
 "metadata": {
  "kernelspec": {
   "display_name": "Python 3",
   "language": "python",
   "name": "python3"
  },
  "language_info": {
   "codemirror_mode": {
    "name": "ipython",
    "version": 3
   },
   "file_extension": ".py",
   "mimetype": "text/x-python",
   "name": "python",
   "nbconvert_exporter": "python",
   "pygments_lexer": "ipython3",
   "version": "3.7.8"
  },
  "toc-autonumbering": false,
  "toc-showcode": false,
  "toc-showmarkdowntxt": false,
  "toc-showtags": false
 },
 "nbformat": 4,
 "nbformat_minor": 4
}
